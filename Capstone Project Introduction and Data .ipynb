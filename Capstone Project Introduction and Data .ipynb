{
 "cells": [
  {
   "cell_type": "markdown",
   "metadata": {},
   "source": [
    "# Capstone Project Week 3"
   ]
  },
  {
   "cell_type": "markdown",
   "metadata": {},
   "source": [
    "# 1.Introduction. \n",
    "\n",
    "Jpmorgan  GmbH & Co KG is in Wien but plans to open a filial in Toronto to rent and sell apartments. They want to get an advantage of local companies by creating an automatic system to help their clients to find a good area, according their preferences. Later, when the system works properly, the company will order an app, that could help people, who don’t know Toronto well but would like to visit, move or buy a house there. \n"
   ]
  },
  {
   "cell_type": "markdown",
   "metadata": {},
   "source": [
    "# 2 Data\n",
    "We use: \n",
    "\n",
    "• Wikipedia ( https://en.wikipedia.org/wiki/List_of_postal_codes_of_Cana da:M) to get Postal Code, Borough and Neighborhood in Toronto \n",
    "• Geospatial data for Toronto (http://cocl.us/Geospatial_data) to get the geographical coordinates of each postal code \n",
    "• Foursquare API to obtain more information about venues \n",
    "• Random user data, with a random number of preferences to check, how our system works.\n"
   ]
  }
 ],
 "metadata": {
  "kernelspec": {
   "display_name": "Python 3",
   "language": "python",
   "name": "python3"
  },
  "language_info": {
   "codemirror_mode": {
    "name": "ipython",
    "version": 3
   },
   "file_extension": ".py",
   "mimetype": "text/x-python",
   "name": "python",
   "nbconvert_exporter": "python",
   "pygments_lexer": "ipython3",
   "version": "3.7.4"
  }
 },
 "nbformat": 4,
 "nbformat_minor": 2
}
